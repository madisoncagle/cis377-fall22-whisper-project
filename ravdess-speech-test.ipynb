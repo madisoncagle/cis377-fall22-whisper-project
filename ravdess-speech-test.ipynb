{
 "cells": [
  {
   "cell_type": "code",
   "execution_count": null,
   "metadata": {},
   "outputs": [],
   "source": [
    "! pip install git+https://github.com/openai/whisper.git"
   ]
  },
  {
   "cell_type": "code",
   "execution_count": null,
   "metadata": {},
   "outputs": [],
   "source": [
    "# import libraries\n",
    "import os\n",
    "import numpy as np\n",
    "import pandas as pd\n",
    "import whisper\n",
    "\n",
    "from tqdm import tqdm"
   ]
  },
  {
   "cell_type": "code",
   "execution_count": null,
   "metadata": {},
   "outputs": [],
   "source": [
    "model = whisper.load_model(\"base\")"
   ]
  },
  {
   "cell_type": "code",
   "execution_count": null,
   "metadata": {},
   "outputs": [],
   "source": [
    "# get audio clips and transcriptions\n",
    "import os\n",
    "\n",
    "recs = {}\n",
    "\n",
    "for path, _, files in os.walk('./ravdess-song/'):\n",
    "    for file in files:\n",
    "        if file[12:14] == \"01\": # parse file name to get sentence\n",
    "            txt = \"Kids are talking by the door\"\n",
    "        else:\n",
    "            txt = \"Dogs are sitting by the door\"\n",
    "        \n",
    "        recs[os.path.join(path, file).replace('\\\\', '/')] = txt\n",
    "\n",
    "recs"
   ]
  },
  {
   "cell_type": "code",
   "execution_count": null,
   "metadata": {},
   "outputs": [],
   "source": [
    "# choose 100 random clips\n",
    "import random\n",
    "\n",
    "clips = []\n",
    "for i in range(100):\n",
    "    clips.append(random.choice(list(recs.items())))\n",
    "\n",
    "clips"
   ]
  },
  {
   "cell_type": "code",
   "execution_count": null,
   "metadata": {},
   "outputs": [],
   "source": [
    "# get results\n",
    "results = []\n",
    "for clip in tqdm(clips):\n",
    "    result = model.transcribe(clip[0], **dict(without_timestamps=True))[\"text\"]\n",
    "    results.append(result)\n",
    "\n",
    "results"
   ]
  },
  {
   "cell_type": "code",
   "execution_count": null,
   "metadata": {},
   "outputs": [],
   "source": [
    "from whisper.normalizers import EnglishTextNormalizer\n",
    "\n",
    "normalizer = EnglishTextNormalizer()\n",
    "\n",
    "data = pd.DataFrame(dict(transcription=results, reference=[clip[1] for clip in clips]))\n",
    "data[\"transcription\"] = [normalizer(text) for text in data[\"transcription\"]]\n",
    "data[\"reference\"] = [normalizer(text) for text in data[\"reference\"]]\n",
    "data"
   ]
  },
  {
   "cell_type": "code",
   "execution_count": null,
   "metadata": {},
   "outputs": [],
   "source": [
    "! pip install jiwer"
   ]
  },
  {
   "cell_type": "code",
   "execution_count": null,
   "metadata": {},
   "outputs": [],
   "source": [
    "import jiwer\n",
    "\n",
    "wer = jiwer.wer(list(data[\"reference\"]), list(data[\"transcription\"]))\n",
    "\n",
    "print(f\"WER: {wer * 100:.2f} %\")"
   ]
  }
 ],
 "metadata": {
  "language_info": {
   "name": "python"
  },
  "orig_nbformat": 4
 },
 "nbformat": 4,
 "nbformat_minor": 2
}
